{
 "cells": [
  {
   "cell_type": "markdown",
   "metadata": {},
   "source": [
    "# A simple example for the usage of FEAPy\n",
    "\n",
    "This notebook gives you a short introduction into the most basic features FEAPy provides for you.\n",
    "Before executing the notebook, please make sure that FEAPy is installed on your Python path."
   ]
  },
  {
   "cell_type": "code",
   "execution_count": 1,
   "metadata": {},
   "outputs": [
    {
     "ename": "ModuleNotFoundError",
     "evalue": "No module named 'feapy.vtu'",
     "output_type": "error",
     "traceback": [
      "\u001b[0;31m---------------------------------------------------------------------------\u001b[0m",
      "\u001b[0;31mModuleNotFoundError\u001b[0m                       Traceback (most recent call last)",
      "\u001b[1;32m/home/sg517848/coding/FEAPy/examples/01_feap_truss_example/notebook.ipynb Cell 2'\u001b[0m in \u001b[0;36m<cell line: 1>\u001b[0;34m()\u001b[0m\n\u001b[0;32m----> <a href='vscode-notebook-cell:/home/sg517848/coding/FEAPy/examples/01_feap_truss_example/notebook.ipynb#ch0000001?line=0'>1</a>\u001b[0m \u001b[39mfrom\u001b[39;00m \u001b[39mfeapy\u001b[39;00m\u001b[39m.\u001b[39;00m\u001b[39mFeapy\u001b[39;00m \u001b[39mimport\u001b[39;00m FEAPy\n\u001b[1;32m      <a href='vscode-notebook-cell:/home/sg517848/coding/FEAPy/examples/01_feap_truss_example/notebook.ipynb#ch0000001?line=1'>2</a>\u001b[0m \u001b[39mimport\u001b[39;00m \u001b[39mos\u001b[39;00m\n",
      "File \u001b[0;32m~/.local/lib/python3.8/site-packages/feapy/Feapy.py:8\u001b[0m, in \u001b[0;36m<module>\u001b[0;34m\u001b[0m\n\u001b[1;32m      <a href='file:///~/.local/lib/python3.8/site-packages/feapy/Feapy.py?line=5'>6</a>\u001b[0m \u001b[39mimport\u001b[39;00m \u001b[39mglob\u001b[39;00m\n\u001b[1;32m      <a href='file:///~/.local/lib/python3.8/site-packages/feapy/Feapy.py?line=6'>7</a>\u001b[0m \u001b[39mfrom\u001b[39;00m \u001b[39m.\u001b[39;00m\u001b[39mCommon\u001b[39;00m \u001b[39mimport\u001b[39;00m get_files_by_extension, remove_old_files\n\u001b[0;32m----> <a href='file:///~/.local/lib/python3.8/site-packages/feapy/Feapy.py?line=7'>8</a>\u001b[0m \u001b[39mfrom\u001b[39;00m \u001b[39m.\u001b[39;00m\u001b[39mvtu\u001b[39;00m\u001b[39m.\u001b[39;00m\u001b[39mVTUFile\u001b[39;00m \u001b[39mimport\u001b[39;00m VTUFile\n\u001b[1;32m      <a href='file:///~/.local/lib/python3.8/site-packages/feapy/Feapy.py?line=8'>9</a>\u001b[0m \u001b[39mfrom\u001b[39;00m \u001b[39m.\u001b[39;00m\u001b[39mvtu\u001b[39;00m\u001b[39m.\u001b[39;00m\u001b[39mVTURefactorer\u001b[39;00m \u001b[39mimport\u001b[39;00m VTURefactorer\n\u001b[1;32m     <a href='file:///~/.local/lib/python3.8/site-packages/feapy/Feapy.py?line=9'>10</a>\u001b[0m \u001b[39mimport\u001b[39;00m \u001b[39mdatetime\u001b[39;00m\n",
      "\u001b[0;31mModuleNotFoundError\u001b[0m: No module named 'feapy.vtu'"
     ]
    }
   ],
   "source": [
    "from feapy.Feapy import FEAPy\n",
    "import os"
   ]
  },
  {
   "cell_type": "markdown",
   "metadata": {},
   "source": [
    "After we have imported the basic FEAPy class, we can start setting up our computational framework. To seperate our simulation related files (e.g. input files, data exports etc.) from the evaluation files (e.g. this notebook) we will create a new directory to put all these files into. This is not mandatory but highly recommended to keep things clean and tidy."
   ]
  },
  {
   "cell_type": "code",
   "execution_count": null,
   "metadata": {},
   "outputs": [],
   "source": [
    "# Create a directory to run simulations in\n",
    "simulation_directory = os.path.join(os.getcwd(), \"Simulation\")\n",
    "if not os.path.isdir(simulation_directory):\n",
    "    os.mkdir(simulation_directory)  "
   ]
  },
  {
   "cell_type": "markdown",
   "metadata": {},
   "source": [
    "Next, we can register the FEAPy runner with an executable name and the directory, we have just created. FEAPy will now be able to execute FEAP within the given directory.\n",
    "\n",
    "We can furthermore use the ```clean``` command to get rid of all the old simulation files located within the simulation directory. This is of particular handiness if you have to run multiple executions of FEAP consecutively and want to assure that no ald results are messing up your data."
   ]
  },
  {
   "cell_type": "code",
   "execution_count": null,
   "metadata": {},
   "outputs": [],
   "source": [
    "# initialize feapy runner and clean directory\n",
    "runner = FEAPy(executable=\"gak_feap\", working_dir=simulation_directory)\n",
    "runner.clean()"
   ]
  },
  {
   "cell_type": "markdown",
   "metadata": {},
   "source": [
    "Before running our simulationt, we want to create an input file with a particular choice of e.g. material parameters. For this we first define the parameters, in this case the youngs modulus and the beam cross section."
   ]
  },
  {
   "cell_type": "code",
   "execution_count": null,
   "metadata": {},
   "outputs": [],
   "source": [
    "# Material parameters\n",
    "E = 10000 # Youngs modulus\n",
    "A = 0.25  # Cross section"
   ]
  },
  {
   "cell_type": "markdown",
   "metadata": {},
   "source": [
    "Next, we can pass the parameters into the ```create_inputfile``` function to build an input file from a jinja template. In this case, the template is written in the [Iinput.jinja](Iinput.jinja) file. Here, the values you want to be replaced when creating an input file are written in double curly braces and have to be passed into the ```create_inputfile``` function of the runner."
   ]
  },
  {
   "cell_type": "code",
   "execution_count": null,
   "metadata": {},
   "outputs": [],
   "source": [
    "# Create input file from jinja template\n",
    "parameters = {\n",
    "    \"YOUNGS_MOD\": E,\n",
    "    \"CROSS_SECTION\": A\n",
    "}\n",
    "runner.create_inputfile(\"Iinput\", parameters)"
   ]
  },
  {
   "cell_type": "markdown",
   "metadata": {},
   "source": [
    "Now we are good to go. Let us run the corresponding input file by calling the ```run``` method of our runner."
   ]
  },
  {
   "cell_type": "code",
   "execution_count": null,
   "metadata": {},
   "outputs": [
    {
     "data": {
      "text/plain": [
       "CompletedProcess(args=['gak_feap', '-iIinput'], returncode=0)"
      ]
     },
     "execution_count": 35,
     "metadata": {},
     "output_type": "execute_result"
    }
   ],
   "source": [
    "# Run computation\n",
    "runner.run(\"Iinput\")"
   ]
  },
  {
   "cell_type": "markdown",
   "metadata": {},
   "source": [
    "Thats it!\n",
    "\n",
    "To get more information on the capabilities of FEAPy, take a look at the other examples."
   ]
  }
 ],
 "metadata": {
  "interpreter": {
   "hash": "0d43448e33a3a5ffebbf0e819d47059d7bdbf48b9486ba73dd378dbf72cfb18b"
  },
  "kernelspec": {
   "display_name": "Python 3.8.10 ('venv': venv)",
   "language": "python",
   "name": "python3"
  },
  "language_info": {
   "codemirror_mode": {
    "name": "ipython",
    "version": 3
   },
   "file_extension": ".py",
   "mimetype": "text/x-python",
   "name": "python",
   "nbconvert_exporter": "python",
   "pygments_lexer": "ipython3",
   "version": "3.8.10"
  },
  "orig_nbformat": 4
 },
 "nbformat": 4,
 "nbformat_minor": 2
}
