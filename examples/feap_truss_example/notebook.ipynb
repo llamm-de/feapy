{
 "cells": [
  {
   "cell_type": "code",
   "execution_count": 13,
   "metadata": {},
   "outputs": [],
   "source": [
    "from feapy.Feapy import FEAPy\n",
    "import os"
   ]
  },
  {
   "cell_type": "code",
   "execution_count": 14,
   "metadata": {},
   "outputs": [],
   "source": [
    "# Create a directory to run simulations in\n",
    "simulation_directory = os.path.join(os.getcwd(), \"Simulation\")\n",
    "if not os.path.isdir(simulation_directory):\n",
    "    os.mkdir(simulation_directory)  \n",
    "\n",
    "# initialize feapy runner and clean directory\n",
    "runner = FEAPy(executable=\"gak_feap\", working_dir=simulation_directory)\n",
    "runner.clean()"
   ]
  },
  {
   "cell_type": "code",
   "execution_count": 15,
   "metadata": {},
   "outputs": [],
   "source": [
    "# Material parameters\n",
    "E = 10000 # Youngs modulus\n",
    "A = 0.25  # Cross section"
   ]
  },
  {
   "cell_type": "code",
   "execution_count": 16,
   "metadata": {},
   "outputs": [],
   "source": [
    "# Create input file from jinja template\n",
    "parameters = {\n",
    "    \"YOUNGS_MOD\": E,\n",
    "    \"CROSS_SECTION\": A\n",
    "}\n",
    "runner.create_inputfile(\"Iinput\", parameters)"
   ]
  },
  {
   "cell_type": "code",
   "execution_count": 17,
   "metadata": {},
   "outputs": [
    {
     "data": {
      "text/plain": [
       "CompletedProcess(args=['gak_feap', '-iIinput'], returncode=0)"
      ]
     },
     "execution_count": 17,
     "metadata": {},
     "output_type": "execute_result"
    }
   ],
   "source": [
    "# Run computation\n",
    "runner.run(\"Iinput\")"
   ]
  }
 ],
 "metadata": {
  "interpreter": {
   "hash": "0d43448e33a3a5ffebbf0e819d47059d7bdbf48b9486ba73dd378dbf72cfb18b"
  },
  "kernelspec": {
   "display_name": "Python 3.8.10 ('venv': venv)",
   "language": "python",
   "name": "python3"
  },
  "language_info": {
   "codemirror_mode": {
    "name": "ipython",
    "version": 3
   },
   "file_extension": ".py",
   "mimetype": "text/x-python",
   "name": "python",
   "nbconvert_exporter": "python",
   "pygments_lexer": "ipython3",
   "version": "3.8.10"
  },
  "orig_nbformat": 4
 },
 "nbformat": 4,
 "nbformat_minor": 2
}
