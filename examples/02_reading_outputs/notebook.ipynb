{
 "cells": [
  {
   "cell_type": "markdown",
   "metadata": {},
   "source": [
    "# How to read and visualize results from FEAP with FEAPy\n",
    "\n",
    "This notebook gives you a short introduction on how to read and visualize compuational results using the FEAPy package."
   ]
  },
  {
   "cell_type": "code",
   "execution_count": 1,
   "metadata": {},
   "outputs": [],
   "source": [
    "from feapy.Feapy import FEAPy\n",
    "import os"
   ]
  },
  {
   "cell_type": "markdown",
   "metadata": {},
   "source": [
    "After we have imported the basic FEAPy class, we can again are setting up our computational framework."
   ]
  },
  {
   "cell_type": "code",
   "execution_count": 2,
   "metadata": {},
   "outputs": [],
   "source": [
    "# Create a directory to run simulations in\n",
    "simulation_directory = os.path.join(os.getcwd(), \"Simulation\")\n",
    "if not os.path.isdir(simulation_directory):\n",
    "    os.mkdir(simulation_directory)  \n",
    "\n",
    "# initialize feapy runner and clean directory\n",
    "runner = FEAPy(executable=\"gak_feap\", working_dir=simulation_directory)\n",
    "runner.clean()"
   ]
  },
  {
   "cell_type": "markdown",
   "metadata": {},
   "source": [
    "Within this example, we use a simple uniaxialy displacement-loaded block that is devided into a number of elements in x,y and z direction. As a material model, a standard Neo-Hookean model is applied.\n",
    "Before running our simulationt, we want to create an input file with a particular choice of e.g. material parameters. For this we first define some parameters, in this case the youngs modulus, the Poisson ratio as well as some mesh dependent properties."
   ]
  },
  {
   "cell_type": "code",
   "execution_count": 3,
   "metadata": {},
   "outputs": [],
   "source": [
    "# Material parameters\n",
    "E = 10000 # Youngs modulus\n",
    "nu = 0.3  # Poisson ratio\n",
    "\n",
    "# Mesh parameters\n",
    "x_length = 1\n",
    "y_length = 1\n",
    "z_length = 1\n",
    "num_el_x = 10\n",
    "num_el_y = 10\n",
    "num_el_z = 10\n",
    "\n",
    "# Displacement and time step size\n",
    "displacement = 1.0\n",
    "delta_t = 0.1\n",
    "num_timesteps = 10.0"
   ]
  },
  {
   "cell_type": "markdown",
   "metadata": {},
   "source": [
    "Next, we can pass the parameters into the ```create_inputfile``` function to build an input file from a jinja template. In this case, the template is written in the [Iinput.jinja](Iinput.jinja) file. Here, the values you want to be replaced when creating an input file are written in double curly braces and have to be passed into the ```create_inputfile``` function of the runner."
   ]
  },
  {
   "cell_type": "code",
   "execution_count": 4,
   "metadata": {},
   "outputs": [],
   "source": [
    "# Create input file from jinja template\n",
    "parameters = {\n",
    "    \"YOUNGS_MOD\": E,\n",
    "    \"POISSON\": nu,\n",
    "    \"XL\": x_length,\n",
    "    \"YL\": y_length,\n",
    "    \"ZL\": z_length,\n",
    "    \"EX\": num_el_x,\n",
    "    \"EY\": num_el_y,\n",
    "    \"EZ\": num_el_z,\n",
    "    \"DISP\": displacement,\n",
    "    \"NUMTS\": num_timesteps,\n",
    "    \"DT\": delta_t\n",
    "}\n",
    "runner.create_inputfile(\"Iinput\", parameters)"
   ]
  },
  {
   "cell_type": "markdown",
   "metadata": {},
   "source": [
    "Now we are good to go. Let us run the corresponding input file by calling the ```run``` method of our runner."
   ]
  },
  {
   "cell_type": "code",
   "execution_count": 5,
   "metadata": {},
   "outputs": [
    {
     "data": {
      "text/plain": [
       "CompletedProcess(args=['gak_feap', '-iIinput'], returncode=0)"
      ]
     },
     "execution_count": 5,
     "metadata": {},
     "output_type": "execute_result"
    }
   ],
   "source": [
    "# Run computation\n",
    "runner.run(\"Iinput\")"
   ]
  },
  {
   "cell_type": "markdown",
   "metadata": {},
   "source": [
    "To load the force-displacement data FEAP created using the ```tplo``` command, we con use the ```read_output``` function of FEAPy."
   ]
  },
  {
   "cell_type": "code",
   "execution_count": 6,
   "metadata": {},
   "outputs": [],
   "source": [
    "data = runner.read_output(\"Iinput\", sum_names=[\"ts\", \"f\"], dis_names=[\"ts\", \"u\"])"
   ]
  },
  {
   "cell_type": "markdown",
   "metadata": {},
   "source": [
    "For this, you need to define the column names of the ```.dis``` and ```.sum``` files FEAP has created during execution. FEAPy will then return a pandas dataframe object you can work with. E.g. you can plot the force-displacement diagram using:"
   ]
  },
  {
   "cell_type": "code",
   "execution_count": 8,
   "metadata": {},
   "outputs": [
    {
     "data": {
      "text/plain": [
       "<AxesSubplot:xlabel='u'>"
      ]
     },
     "execution_count": 8,
     "metadata": {},
     "output_type": "execute_result"
    },
    {
     "data": {
      "image/png": "[encoded data removed]",
      "text/plain": [
       "<Figure size 432x288 with 1 Axes>"
      ]
     },
     "metadata": {
      "needs_background": "light"
     },
     "output_type": "display_data"
    }
   ],
   "source": [
    "data.plot(x=\"u\", y=\"f\")"
   ]
  },
  {
   "cell_type": "markdown",
   "metadata": {},
   "source": [
    "For more information on how to use pandas to evaluate and visualize datasets, please take a look at the [official documentation](https://pandas.pydata.org/)."
   ]
  },
  {
   "cell_type": "markdown",
   "metadata": {},
   "source": [
    "Thats it!\n",
    "\n",
    "To get more information on the capabilities of FEAPy, take a look at the other examples."
   ]
  }
 ],
 "metadata": {
  "interpreter": {
   "hash": "0d43448e33a3a5ffebbf0e819d47059d7bdbf48b9486ba73dd378dbf72cfb18b"
  },
  "kernelspec": {
   "display_name": "Python 3.8.10 ('venv': venv)",
   "language": "python",
   "name": "python3"
  },
  "language_info": {
   "codemirror_mode": {
    "name": "ipython",
    "version": 3
   },
   "file_extension": ".py",
   "mimetype": "text/x-python",
   "name": "python",
   "nbconvert_exporter": "python",
   "pygments_lexer": "ipython3",
   "version": "3.8.10"
  },
  "orig_nbformat": 4
 },
 "nbformat": 4,
 "nbformat_minor": 2
}
